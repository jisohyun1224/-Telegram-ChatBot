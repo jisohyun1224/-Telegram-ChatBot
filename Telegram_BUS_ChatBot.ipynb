{
 "cells": [
  {
   "cell_type": "code",
   "execution_count": null,
   "metadata": {},
   "outputs": [],
   "source": [
    "from telegram.ext import Updater, CommandHandler\n",
    "import telepot\n",
    "import requests\n",
    "import simplejson as json\n",
    "from flask import Flask, request, render_template\n",
    "import time\n",
    "import os\n",
    "from bs4 import BeautifulSoup as bs\n",
    "\n",
    "TOKEN = ''\n",
    "url = 'https://api.telegram.org/bot{}/getUpdates'.format(TOKEN)\n",
    "response = json.loads(requests.get(url).text) \n",
    "url1 = 'https://api.telegram.org/bot{}/sendMessage'.format(TOKEN)\n",
    "chat_id = response[\"result\"][-1][\"message\"][\"from\"][\"id\"]\n",
    "msg = response[\"result\"][-1][\"message\"][\"text\"]\n",
    "API_TOKEN =''\n",
    "\n",
    "def check_id(bot, update):\n",
    "    try:\n",
    "        id = update.message.chat.id\n",
    "        print('Chat ID', id)\n",
    "        return id\n",
    "    except:\n",
    "        id = update.channel_post.chat.id\n",
    "        return id\n",
    "\n",
    "def check_nickname(bot, update):\n",
    "    try:\n",
    "        nickname = update.message.from_user.first_name\n",
    "        print('Chat NickName', nickname)\n",
    "        return nickname\n",
    "    except:\n",
    "        nickname = update.channel_post.from_user.first_name\n",
    "        return nickname\n",
    "\n",
    "def bus_command(bot, update):\n",
    "    id = check_id(bot, update)\n",
    "    nickname = check_nickname(bot, update)\n",
    "    bot.send_message(chat_id=id, text=\"안녕하세요 \" + nickname +\"! 버스 챗봇입니다!\\n\\n\")\n",
    "    route_list = {\n",
    "            '208000016':'5'\n",
    "        }\n",
    "    results = []\n",
    "    for routeId, busNo in route_list.items():\n",
    "        serviceKey = API_TOKEN\n",
    "        stationId='118000124'\n",
    "        routeId=str(routeId)\n",
    "        url = \"http://openapi.gbis.go.kr/ws/rest/busarrivalservice?serviceKey={}&stationId={}&routeId={}\".format(serviceKey, stationId,routeId)\n",
    "        response = requests.get(url).text\n",
    "        bss = bs(response, 'html.parser')\n",
    "        if bss.resultmessage.text == '정상적으로 처리되었습니다.':\n",
    "            print(busNo, ' : ', bss.predicttime1.text)\n",
    "            print(busNo, ' : ', bss.predicttime2.text)\n",
    "            results.append([busNo, bss.predicttime1.text])\n",
    "            results.append([busNo, bss.predicttime2.text])\n",
    "            msg = ''\n",
    "        for i in results:\n",
    "            msg += '{} : {}분\\n'.format(i[0], i[1])\n",
    "            bot.send_message(chat_id=id, text=i[0]+\"번 버스\"+ \" : \"+ i[1]+\"분 후 도착합니다.\\n\" )\n",
    "            #requests.get(url1, params = {\"chat_id\" : chat_id, \"text\" : msg})\n",
    "\n",
    "\n",
    "updater = Updater(TOKEN)\n",
    "\n",
    "updater.dispatcher.add_handler(CommandHandler('bus', bus_command))\n",
    "\n",
    "updater.start_polling(poll_interval=0.0,\n",
    "                          timeout=10,\n",
    "                          clean=False,\n",
    "                          bootstrap_retries=0)\n",
    "updater.idle()"
   ]
  },
  {
   "cell_type": "code",
   "execution_count": null,
   "metadata": {},
   "outputs": [],
   "source": []
  },
  {
   "cell_type": "markdown",
   "metadata": {},
   "source": [
    "ipXuumN%2BejDjBPmMbuT40W46%2Bnt2iK8Moiz4ylVys6RrE6PUzQvrNQwv27%2BuI%2BMl5KJE6yOUdVGXWBlbMXPphA%3D%3D\n"
   ]
  },
  {
   "cell_type": "code",
   "execution_count": null,
   "metadata": {},
   "outputs": [],
   "source": [
    "\n"
   ]
  },
  {
   "cell_type": "code",
   "execution_count": null,
   "metadata": {},
   "outputs": [],
   "source": []
  },
  {
   "cell_type": "code",
   "execution_count": null,
   "metadata": {},
   "outputs": [],
   "source": []
  },
  {
   "cell_type": "code",
   "execution_count": null,
   "metadata": {},
   "outputs": [],
   "source": []
  },
  {
   "cell_type": "code",
   "execution_count": null,
   "metadata": {},
   "outputs": [],
   "source": []
  },
  {
   "cell_type": "code",
   "execution_count": null,
   "metadata": {},
   "outputs": [],
   "source": []
  },
  {
   "cell_type": "code",
   "execution_count": null,
   "metadata": {},
   "outputs": [],
   "source": []
  },
  {
   "cell_type": "code",
   "execution_count": null,
   "metadata": {},
   "outputs": [],
   "source": []
  },
  {
   "cell_type": "code",
   "execution_count": null,
   "metadata": {},
   "outputs": [],
   "source": []
  },
  {
   "cell_type": "code",
   "execution_count": null,
   "metadata": {},
   "outputs": [],
   "source": []
  }
 ],
 "metadata": {
  "kernelspec": {
   "display_name": "Python 3",
   "language": "python",
   "name": "python3"
  },
  "language_info": {
   "codemirror_mode": {
    "name": "ipython",
    "version": 3
   },
   "file_extension": ".py",
   "mimetype": "text/x-python",
   "name": "python",
   "nbconvert_exporter": "python",
   "pygments_lexer": "ipython3",
   "version": "3.7.4"
  }
 },
 "nbformat": 4,
 "nbformat_minor": 2
}
